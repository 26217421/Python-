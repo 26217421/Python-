{
 "cells": [
  {
   "cell_type": "code",
   "execution_count": 39,
   "metadata": {
    "collapsed": true
   },
   "outputs": [],
   "source": [
    "\n",
    "import pandas as pd\n",
    "\n",
    "data_filename = \"basketball.csv\"\n",
    "dataset = pd.read_csv(data_filename)"
   ]
  },
  {
   "cell_type": "code",
   "execution_count": 40,
   "outputs": [
    {
     "data": {
      "text/plain": "              Date Start (ET)       Visitor/Neutral  PTS  \\\n0  Tue Oct 27 2015      8:00p   Cleveland Cavaliers   95   \n1  Tue Oct 27 2015      8:00p       Detroit Pistons  106   \n2  Tue Oct 27 2015     10:30p  New Orleans Pelicans   95   \n3  Wed Oct 28 2015      7:00p    Washington Wizards   88   \n4  Wed Oct 28 2015      7:30p    Philadelphia 76ers   95   \n\n            Home/Neutral  PTS.1 Unnamed: 6 Unnamed: 7 Notes  \n0          Chicago Bulls     97  Box Score        NaN   NaN  \n1          Atlanta Hawks     94  Box Score        NaN   NaN  \n2  Golden State Warriors    111  Box Score        NaN   NaN  \n3          Orlando Magic     87  Box Score        NaN   NaN  \n4         Boston Celtics    112  Box Score        NaN   NaN  ",
      "text/html": "<div>\n<style scoped>\n    .dataframe tbody tr th:only-of-type {\n        vertical-align: middle;\n    }\n\n    .dataframe tbody tr th {\n        vertical-align: top;\n    }\n\n    .dataframe thead th {\n        text-align: right;\n    }\n</style>\n<table border=\"1\" class=\"dataframe\">\n  <thead>\n    <tr style=\"text-align: right;\">\n      <th></th>\n      <th>Date</th>\n      <th>Start (ET)</th>\n      <th>Visitor/Neutral</th>\n      <th>PTS</th>\n      <th>Home/Neutral</th>\n      <th>PTS.1</th>\n      <th>Unnamed: 6</th>\n      <th>Unnamed: 7</th>\n      <th>Notes</th>\n    </tr>\n  </thead>\n  <tbody>\n    <tr>\n      <th>0</th>\n      <td>Tue Oct 27 2015</td>\n      <td>8:00p</td>\n      <td>Cleveland Cavaliers</td>\n      <td>95</td>\n      <td>Chicago Bulls</td>\n      <td>97</td>\n      <td>Box Score</td>\n      <td>NaN</td>\n      <td>NaN</td>\n    </tr>\n    <tr>\n      <th>1</th>\n      <td>Tue Oct 27 2015</td>\n      <td>8:00p</td>\n      <td>Detroit Pistons</td>\n      <td>106</td>\n      <td>Atlanta Hawks</td>\n      <td>94</td>\n      <td>Box Score</td>\n      <td>NaN</td>\n      <td>NaN</td>\n    </tr>\n    <tr>\n      <th>2</th>\n      <td>Tue Oct 27 2015</td>\n      <td>10:30p</td>\n      <td>New Orleans Pelicans</td>\n      <td>95</td>\n      <td>Golden State Warriors</td>\n      <td>111</td>\n      <td>Box Score</td>\n      <td>NaN</td>\n      <td>NaN</td>\n    </tr>\n    <tr>\n      <th>3</th>\n      <td>Wed Oct 28 2015</td>\n      <td>7:00p</td>\n      <td>Washington Wizards</td>\n      <td>88</td>\n      <td>Orlando Magic</td>\n      <td>87</td>\n      <td>Box Score</td>\n      <td>NaN</td>\n      <td>NaN</td>\n    </tr>\n    <tr>\n      <th>4</th>\n      <td>Wed Oct 28 2015</td>\n      <td>7:30p</td>\n      <td>Philadelphia 76ers</td>\n      <td>95</td>\n      <td>Boston Celtics</td>\n      <td>112</td>\n      <td>Box Score</td>\n      <td>NaN</td>\n      <td>NaN</td>\n    </tr>\n  </tbody>\n</table>\n</div>"
     },
     "execution_count": 40,
     "metadata": {},
     "output_type": "execute_result"
    }
   ],
   "source": [
    "dataset.head()"
   ],
   "metadata": {
    "collapsed": false,
    "pycharm": {
     "name": "#%%\n"
    }
   }
  },
  {
   "cell_type": "code",
   "execution_count": 41,
   "outputs": [],
   "source": [
    "dataset = pd.read_csv(data_filename, parse_dates=[\"Date\"])\n",
    "\n",
    "dataset.columns = [\"Date\", \"Start (ET)\", \"Visitor Team\", \"VisitorPts\", \"Home Team\", \"HomePts\", \"OT?\", \"Score Type\", \"Notes\"]"
   ],
   "metadata": {
    "collapsed": false,
    "pycharm": {
     "name": "#%%\n"
    }
   }
  },
  {
   "cell_type": "code",
   "execution_count": 42,
   "outputs": [
    {
     "data": {
      "text/plain": "        Date Start (ET)          Visitor Team  VisitorPts  \\\n0 2015-10-27      8:00p   Cleveland Cavaliers          95   \n1 2015-10-27      8:00p       Detroit Pistons         106   \n2 2015-10-27     10:30p  New Orleans Pelicans          95   \n3 2015-10-28      7:00p    Washington Wizards          88   \n4 2015-10-28      7:30p    Philadelphia 76ers          95   \n\n               Home Team  HomePts        OT? Score Type Notes  \n0          Chicago Bulls       97  Box Score        NaN   NaN  \n1          Atlanta Hawks       94  Box Score        NaN   NaN  \n2  Golden State Warriors      111  Box Score        NaN   NaN  \n3          Orlando Magic       87  Box Score        NaN   NaN  \n4         Boston Celtics      112  Box Score        NaN   NaN  ",
      "text/html": "<div>\n<style scoped>\n    .dataframe tbody tr th:only-of-type {\n        vertical-align: middle;\n    }\n\n    .dataframe tbody tr th {\n        vertical-align: top;\n    }\n\n    .dataframe thead th {\n        text-align: right;\n    }\n</style>\n<table border=\"1\" class=\"dataframe\">\n  <thead>\n    <tr style=\"text-align: right;\">\n      <th></th>\n      <th>Date</th>\n      <th>Start (ET)</th>\n      <th>Visitor Team</th>\n      <th>VisitorPts</th>\n      <th>Home Team</th>\n      <th>HomePts</th>\n      <th>OT?</th>\n      <th>Score Type</th>\n      <th>Notes</th>\n    </tr>\n  </thead>\n  <tbody>\n    <tr>\n      <th>0</th>\n      <td>2015-10-27</td>\n      <td>8:00p</td>\n      <td>Cleveland Cavaliers</td>\n      <td>95</td>\n      <td>Chicago Bulls</td>\n      <td>97</td>\n      <td>Box Score</td>\n      <td>NaN</td>\n      <td>NaN</td>\n    </tr>\n    <tr>\n      <th>1</th>\n      <td>2015-10-27</td>\n      <td>8:00p</td>\n      <td>Detroit Pistons</td>\n      <td>106</td>\n      <td>Atlanta Hawks</td>\n      <td>94</td>\n      <td>Box Score</td>\n      <td>NaN</td>\n      <td>NaN</td>\n    </tr>\n    <tr>\n      <th>2</th>\n      <td>2015-10-27</td>\n      <td>10:30p</td>\n      <td>New Orleans Pelicans</td>\n      <td>95</td>\n      <td>Golden State Warriors</td>\n      <td>111</td>\n      <td>Box Score</td>\n      <td>NaN</td>\n      <td>NaN</td>\n    </tr>\n    <tr>\n      <th>3</th>\n      <td>2015-10-28</td>\n      <td>7:00p</td>\n      <td>Washington Wizards</td>\n      <td>88</td>\n      <td>Orlando Magic</td>\n      <td>87</td>\n      <td>Box Score</td>\n      <td>NaN</td>\n      <td>NaN</td>\n    </tr>\n    <tr>\n      <th>4</th>\n      <td>2015-10-28</td>\n      <td>7:30p</td>\n      <td>Philadelphia 76ers</td>\n      <td>95</td>\n      <td>Boston Celtics</td>\n      <td>112</td>\n      <td>Box Score</td>\n      <td>NaN</td>\n      <td>NaN</td>\n    </tr>\n  </tbody>\n</table>\n</div>"
     },
     "execution_count": 42,
     "metadata": {},
     "output_type": "execute_result"
    }
   ],
   "source": [
    "dataset.head()"
   ],
   "metadata": {
    "collapsed": false,
    "pycharm": {
     "name": "#%%\n"
    }
   }
  },
  {
   "cell_type": "code",
   "execution_count": 43,
   "outputs": [
    {
     "name": "stdout",
     "output_type": "stream",
     "text": [
      "Date            datetime64[ns]\n",
      "Start (ET)              object\n",
      "Visitor Team            object\n",
      "VisitorPts               int64\n",
      "Home Team               object\n",
      "HomePts                  int64\n",
      "OT?                     object\n",
      "Score Type              object\n",
      "Notes                   object\n",
      "dtype: object\n"
     ]
    }
   ],
   "source": [
    "print(dataset.dtypes)\n",
    "dataset[\"HomeWin\"] = dataset[\"VisitorPts\"] < dataset[\"HomePts\"]\n",
    "\n",
    "dataset.head()\n",
    "y_true = dataset[\"HomeWin\"].values"
   ],
   "metadata": {
    "collapsed": false,
    "pycharm": {
     "name": "#%%\n"
    }
   }
  },
  {
   "cell_type": "code",
   "execution_count": 44,
   "outputs": [
    {
     "data": {
      "text/plain": "0.5942249240121581"
     },
     "execution_count": 44,
     "metadata": {},
     "output_type": "execute_result"
    }
   ],
   "source": [
    "dataset[\"HomeWin\"].mean()"
   ],
   "metadata": {
    "collapsed": false,
    "pycharm": {
     "name": "#%%\n"
    }
   }
  },
  {
   "cell_type": "code",
   "execution_count": 45,
   "outputs": [],
   "source": [
    "from collections import defaultdict\n",
    "won_last = defaultdict(int)"
   ],
   "metadata": {
    "collapsed": false,
    "pycharm": {
     "name": "#%%\n"
    }
   }
  },
  {
   "cell_type": "code",
   "execution_count": 46,
   "outputs": [],
   "source": [
    "dataset[\"HomeLastWin\"] = 0\n",
    "dataset[\"VisitorLastWin\"] = 0"
   ],
   "metadata": {
    "collapsed": false,
    "pycharm": {
     "name": "#%%\n"
    }
   }
  },
  {
   "cell_type": "code",
   "execution_count": 47,
   "outputs": [],
   "source": [
    "for index, row in dataset.iterrows():\n",
    "    home_team = row[\"Home Team\"]\n",
    "    visitor_team = row[\"Visitor Team\"]\n",
    "    row[\"HomeLastWin\"] = won_last[home_team]\n",
    "    dataset.at[index, \"HomeLastWin\"] = won_last[home_team]\n",
    "    dataset.at[index, \"VisitorLastWin\"] = won_last[visitor_team]\n",
    "\n",
    "    won_last[home_team] = int(row[\"HomeWin\"])\n",
    "    won_last[visitor_team] = 1 - int(row[\"HomeWin\"])"
   ],
   "metadata": {
    "collapsed": false,
    "pycharm": {
     "name": "#%%\n"
    }
   }
  },
  {
   "cell_type": "code",
   "execution_count": 48,
   "outputs": [
    {
     "data": {
      "text/plain": "        Date Start (ET)          Visitor Team  VisitorPts  \\\n0 2015-10-27      8:00p   Cleveland Cavaliers          95   \n1 2015-10-27      8:00p       Detroit Pistons         106   \n2 2015-10-27     10:30p  New Orleans Pelicans          95   \n3 2015-10-28      7:00p    Washington Wizards          88   \n4 2015-10-28      7:30p    Philadelphia 76ers          95   \n5 2015-10-28      7:30p         Chicago Bulls         115   \n\n               Home Team  HomePts        OT? Score Type Notes  HomeWin  \\\n0          Chicago Bulls       97  Box Score        NaN   NaN     True   \n1          Atlanta Hawks       94  Box Score        NaN   NaN    False   \n2  Golden State Warriors      111  Box Score        NaN   NaN     True   \n3          Orlando Magic       87  Box Score        NaN   NaN    False   \n4         Boston Celtics      112  Box Score        NaN   NaN     True   \n5          Brooklyn Nets      100  Box Score        NaN   NaN    False   \n\n   HomeLastWin  VisitorLastWin  \n0            0               0  \n1            0               0  \n2            0               0  \n3            0               0  \n4            0               0  \n5            0               1  ",
      "text/html": "<div>\n<style scoped>\n    .dataframe tbody tr th:only-of-type {\n        vertical-align: middle;\n    }\n\n    .dataframe tbody tr th {\n        vertical-align: top;\n    }\n\n    .dataframe thead th {\n        text-align: right;\n    }\n</style>\n<table border=\"1\" class=\"dataframe\">\n  <thead>\n    <tr style=\"text-align: right;\">\n      <th></th>\n      <th>Date</th>\n      <th>Start (ET)</th>\n      <th>Visitor Team</th>\n      <th>VisitorPts</th>\n      <th>Home Team</th>\n      <th>HomePts</th>\n      <th>OT?</th>\n      <th>Score Type</th>\n      <th>Notes</th>\n      <th>HomeWin</th>\n      <th>HomeLastWin</th>\n      <th>VisitorLastWin</th>\n    </tr>\n  </thead>\n  <tbody>\n    <tr>\n      <th>0</th>\n      <td>2015-10-27</td>\n      <td>8:00p</td>\n      <td>Cleveland Cavaliers</td>\n      <td>95</td>\n      <td>Chicago Bulls</td>\n      <td>97</td>\n      <td>Box Score</td>\n      <td>NaN</td>\n      <td>NaN</td>\n      <td>True</td>\n      <td>0</td>\n      <td>0</td>\n    </tr>\n    <tr>\n      <th>1</th>\n      <td>2015-10-27</td>\n      <td>8:00p</td>\n      <td>Detroit Pistons</td>\n      <td>106</td>\n      <td>Atlanta Hawks</td>\n      <td>94</td>\n      <td>Box Score</td>\n      <td>NaN</td>\n      <td>NaN</td>\n      <td>False</td>\n      <td>0</td>\n      <td>0</td>\n    </tr>\n    <tr>\n      <th>2</th>\n      <td>2015-10-27</td>\n      <td>10:30p</td>\n      <td>New Orleans Pelicans</td>\n      <td>95</td>\n      <td>Golden State Warriors</td>\n      <td>111</td>\n      <td>Box Score</td>\n      <td>NaN</td>\n      <td>NaN</td>\n      <td>True</td>\n      <td>0</td>\n      <td>0</td>\n    </tr>\n    <tr>\n      <th>3</th>\n      <td>2015-10-28</td>\n      <td>7:00p</td>\n      <td>Washington Wizards</td>\n      <td>88</td>\n      <td>Orlando Magic</td>\n      <td>87</td>\n      <td>Box Score</td>\n      <td>NaN</td>\n      <td>NaN</td>\n      <td>False</td>\n      <td>0</td>\n      <td>0</td>\n    </tr>\n    <tr>\n      <th>4</th>\n      <td>2015-10-28</td>\n      <td>7:30p</td>\n      <td>Philadelphia 76ers</td>\n      <td>95</td>\n      <td>Boston Celtics</td>\n      <td>112</td>\n      <td>Box Score</td>\n      <td>NaN</td>\n      <td>NaN</td>\n      <td>True</td>\n      <td>0</td>\n      <td>0</td>\n    </tr>\n    <tr>\n      <th>5</th>\n      <td>2015-10-28</td>\n      <td>7:30p</td>\n      <td>Chicago Bulls</td>\n      <td>115</td>\n      <td>Brooklyn Nets</td>\n      <td>100</td>\n      <td>Box Score</td>\n      <td>NaN</td>\n      <td>NaN</td>\n      <td>False</td>\n      <td>0</td>\n      <td>1</td>\n    </tr>\n  </tbody>\n</table>\n</div>"
     },
     "execution_count": 48,
     "metadata": {},
     "output_type": "execute_result"
    }
   ],
   "source": [
    "dataset.head(6)"
   ],
   "metadata": {
    "collapsed": false,
    "pycharm": {
     "name": "#%%\n"
    }
   }
  },
  {
   "cell_type": "code",
   "execution_count": 49,
   "outputs": [
    {
     "data": {
      "text/plain": "           Date Start (ET)           Visitor Team  VisitorPts  \\\n1000 2016-03-15      8:30p   Los Angeles Clippers          87   \n1001 2016-03-15     10:30p       Sacramento Kings         106   \n1002 2016-03-16      7:00p  Oklahoma City Thunder         130   \n1003 2016-03-16      7:00p          Orlando Magic          99   \n1004 2016-03-16      7:00p       Dallas Mavericks          98   \n1005 2016-03-16      7:00p          Chicago Bulls          96   \n\n                Home Team  HomePts        OT? Score Type Notes  HomeWin  \\\n1000    San Antonio Spurs      108  Box Score        NaN   NaN     True   \n1001   Los Angeles Lakers       98  Box Score        NaN   NaN    False   \n1002       Boston Celtics      109  Box Score        NaN   NaN    False   \n1003    Charlotte Hornets      107  Box Score        NaN   NaN     True   \n1004  Cleveland Cavaliers       99  Box Score        NaN   NaN     True   \n1005   Washington Wizards      117  Box Score        NaN   NaN     True   \n\n      HomeLastWin  VisitorLastWin  \n1000            1               0  \n1001            0               0  \n1002            0               1  \n1003            0               1  \n1004            0               1  \n1005            1               1  ",
      "text/html": "<div>\n<style scoped>\n    .dataframe tbody tr th:only-of-type {\n        vertical-align: middle;\n    }\n\n    .dataframe tbody tr th {\n        vertical-align: top;\n    }\n\n    .dataframe thead th {\n        text-align: right;\n    }\n</style>\n<table border=\"1\" class=\"dataframe\">\n  <thead>\n    <tr style=\"text-align: right;\">\n      <th></th>\n      <th>Date</th>\n      <th>Start (ET)</th>\n      <th>Visitor Team</th>\n      <th>VisitorPts</th>\n      <th>Home Team</th>\n      <th>HomePts</th>\n      <th>OT?</th>\n      <th>Score Type</th>\n      <th>Notes</th>\n      <th>HomeWin</th>\n      <th>HomeLastWin</th>\n      <th>VisitorLastWin</th>\n    </tr>\n  </thead>\n  <tbody>\n    <tr>\n      <th>1000</th>\n      <td>2016-03-15</td>\n      <td>8:30p</td>\n      <td>Los Angeles Clippers</td>\n      <td>87</td>\n      <td>San Antonio Spurs</td>\n      <td>108</td>\n      <td>Box Score</td>\n      <td>NaN</td>\n      <td>NaN</td>\n      <td>True</td>\n      <td>1</td>\n      <td>0</td>\n    </tr>\n    <tr>\n      <th>1001</th>\n      <td>2016-03-15</td>\n      <td>10:30p</td>\n      <td>Sacramento Kings</td>\n      <td>106</td>\n      <td>Los Angeles Lakers</td>\n      <td>98</td>\n      <td>Box Score</td>\n      <td>NaN</td>\n      <td>NaN</td>\n      <td>False</td>\n      <td>0</td>\n      <td>0</td>\n    </tr>\n    <tr>\n      <th>1002</th>\n      <td>2016-03-16</td>\n      <td>7:00p</td>\n      <td>Oklahoma City Thunder</td>\n      <td>130</td>\n      <td>Boston Celtics</td>\n      <td>109</td>\n      <td>Box Score</td>\n      <td>NaN</td>\n      <td>NaN</td>\n      <td>False</td>\n      <td>0</td>\n      <td>1</td>\n    </tr>\n    <tr>\n      <th>1003</th>\n      <td>2016-03-16</td>\n      <td>7:00p</td>\n      <td>Orlando Magic</td>\n      <td>99</td>\n      <td>Charlotte Hornets</td>\n      <td>107</td>\n      <td>Box Score</td>\n      <td>NaN</td>\n      <td>NaN</td>\n      <td>True</td>\n      <td>0</td>\n      <td>1</td>\n    </tr>\n    <tr>\n      <th>1004</th>\n      <td>2016-03-16</td>\n      <td>7:00p</td>\n      <td>Dallas Mavericks</td>\n      <td>98</td>\n      <td>Cleveland Cavaliers</td>\n      <td>99</td>\n      <td>Box Score</td>\n      <td>NaN</td>\n      <td>NaN</td>\n      <td>True</td>\n      <td>0</td>\n      <td>1</td>\n    </tr>\n    <tr>\n      <th>1005</th>\n      <td>2016-03-16</td>\n      <td>7:00p</td>\n      <td>Chicago Bulls</td>\n      <td>96</td>\n      <td>Washington Wizards</td>\n      <td>117</td>\n      <td>Box Score</td>\n      <td>NaN</td>\n      <td>NaN</td>\n      <td>True</td>\n      <td>1</td>\n      <td>1</td>\n    </tr>\n  </tbody>\n</table>\n</div>"
     },
     "execution_count": 49,
     "metadata": {},
     "output_type": "execute_result"
    }
   ],
   "source": [
    "dataset.iloc[1000:1006]"
   ],
   "metadata": {
    "collapsed": false,
    "pycharm": {
     "name": "#%%\n"
    }
   }
  },
  {
   "cell_type": "code",
   "execution_count": 50,
   "outputs": [],
   "source": [
    "X_previouswins = dataset[[\"HomeLastWin\", \"VisitorLastWin\"]].values"
   ],
   "metadata": {
    "collapsed": false,
    "pycharm": {
     "name": "#%%\n"
    }
   }
  },
  {
   "cell_type": "code",
   "execution_count": 51,
   "outputs": [],
   "source": [
    "from sklearn.tree import DecisionTreeClassifier\n",
    "clf = DecisionTreeClassifier(random_state=14)"
   ],
   "metadata": {
    "collapsed": false,
    "pycharm": {
     "name": "#%%\n"
    }
   }
  },
  {
   "cell_type": "code",
   "execution_count": 52,
   "outputs": [],
   "source": [
    "from sklearn.model_selection import cross_val_score\n",
    "import numpy as np"
   ],
   "metadata": {
    "collapsed": false,
    "pycharm": {
     "name": "#%%\n"
    }
   }
  },
  {
   "cell_type": "code",
   "execution_count": 53,
   "outputs": [
    {
     "name": "stdout",
     "output_type": "stream",
     "text": [
      "Accuracy: 59.4%\n"
     ]
    }
   ],
   "source": [
    "scores = cross_val_score(clf, X_previouswins, y_true,\n",
    "scoring='accuracy')\n",
    "print(\"Accuracy: {0:.1f}%\".format(np.mean(scores) * 100))"
   ],
   "metadata": {
    "collapsed": false,
    "pycharm": {
     "name": "#%%\n"
    }
   }
  },
  {
   "cell_type": "code",
   "execution_count": 54,
   "outputs": [
    {
     "data": {
      "text/plain": "   Rk                   Team Overall   Home   Road      E      W     A     C  \\\n0   1  Golden State Warriors   67-15   39-2  28-13   25-5  42-10   9-1   7-3   \n1   2          Atlanta Hawks   60-22   35-6  25-16  38-14   22-8  12-6  14-4   \n2   3        Houston Rockets   56-26  30-11  26-15   23-7  33-19   9-1   8-2   \n3   4   Los Angeles Clippers   56-26  30-11  26-15  19-11  37-15   7-3   6-4   \n4   5      Memphis Grizzlies   55-27  31-10  24-17  20-10  35-17   8-2   5-5   \n\n     SE  ...   Post   ≤3    ≥10  Oct   Nov   Dec   Jan  Feb   Mar  Apr  \n0   9-1  ...   25-6  5-3   45-9  1-0  13-2  11-3  12-3  8-3  16-2  6-2  \n1  12-4  ...  17-11  6-4  30-10  0-1   9-5  14-2  17-0  7-4   9-7  4-3  \n2   6-4  ...   20-9  8-4  31-14  2-0  11-4   9-5  11-6  7-3  10-6  6-2  \n3   6-4  ...   21-7  3-5   33-9  2-0   9-5  11-6  11-4  5-6  11-5  7-0  \n4   7-3  ...  16-13  9-3  26-13  2-0  13-2   8-6  12-4  7-4   9-8  4-3  \n\n[5 rows x 24 columns]",
      "text/html": "<div>\n<style scoped>\n    .dataframe tbody tr th:only-of-type {\n        vertical-align: middle;\n    }\n\n    .dataframe tbody tr th {\n        vertical-align: top;\n    }\n\n    .dataframe thead th {\n        text-align: right;\n    }\n</style>\n<table border=\"1\" class=\"dataframe\">\n  <thead>\n    <tr style=\"text-align: right;\">\n      <th></th>\n      <th>Rk</th>\n      <th>Team</th>\n      <th>Overall</th>\n      <th>Home</th>\n      <th>Road</th>\n      <th>E</th>\n      <th>W</th>\n      <th>A</th>\n      <th>C</th>\n      <th>SE</th>\n      <th>...</th>\n      <th>Post</th>\n      <th>≤3</th>\n      <th>≥10</th>\n      <th>Oct</th>\n      <th>Nov</th>\n      <th>Dec</th>\n      <th>Jan</th>\n      <th>Feb</th>\n      <th>Mar</th>\n      <th>Apr</th>\n    </tr>\n  </thead>\n  <tbody>\n    <tr>\n      <th>0</th>\n      <td>1</td>\n      <td>Golden State Warriors</td>\n      <td>67-15</td>\n      <td>39-2</td>\n      <td>28-13</td>\n      <td>25-5</td>\n      <td>42-10</td>\n      <td>9-1</td>\n      <td>7-3</td>\n      <td>9-1</td>\n      <td>...</td>\n      <td>25-6</td>\n      <td>5-3</td>\n      <td>45-9</td>\n      <td>1-0</td>\n      <td>13-2</td>\n      <td>11-3</td>\n      <td>12-3</td>\n      <td>8-3</td>\n      <td>16-2</td>\n      <td>6-2</td>\n    </tr>\n    <tr>\n      <th>1</th>\n      <td>2</td>\n      <td>Atlanta Hawks</td>\n      <td>60-22</td>\n      <td>35-6</td>\n      <td>25-16</td>\n      <td>38-14</td>\n      <td>22-8</td>\n      <td>12-6</td>\n      <td>14-4</td>\n      <td>12-4</td>\n      <td>...</td>\n      <td>17-11</td>\n      <td>6-4</td>\n      <td>30-10</td>\n      <td>0-1</td>\n      <td>9-5</td>\n      <td>14-2</td>\n      <td>17-0</td>\n      <td>7-4</td>\n      <td>9-7</td>\n      <td>4-3</td>\n    </tr>\n    <tr>\n      <th>2</th>\n      <td>3</td>\n      <td>Houston Rockets</td>\n      <td>56-26</td>\n      <td>30-11</td>\n      <td>26-15</td>\n      <td>23-7</td>\n      <td>33-19</td>\n      <td>9-1</td>\n      <td>8-2</td>\n      <td>6-4</td>\n      <td>...</td>\n      <td>20-9</td>\n      <td>8-4</td>\n      <td>31-14</td>\n      <td>2-0</td>\n      <td>11-4</td>\n      <td>9-5</td>\n      <td>11-6</td>\n      <td>7-3</td>\n      <td>10-6</td>\n      <td>6-2</td>\n    </tr>\n    <tr>\n      <th>3</th>\n      <td>4</td>\n      <td>Los Angeles Clippers</td>\n      <td>56-26</td>\n      <td>30-11</td>\n      <td>26-15</td>\n      <td>19-11</td>\n      <td>37-15</td>\n      <td>7-3</td>\n      <td>6-4</td>\n      <td>6-4</td>\n      <td>...</td>\n      <td>21-7</td>\n      <td>3-5</td>\n      <td>33-9</td>\n      <td>2-0</td>\n      <td>9-5</td>\n      <td>11-6</td>\n      <td>11-4</td>\n      <td>5-6</td>\n      <td>11-5</td>\n      <td>7-0</td>\n    </tr>\n    <tr>\n      <th>4</th>\n      <td>5</td>\n      <td>Memphis Grizzlies</td>\n      <td>55-27</td>\n      <td>31-10</td>\n      <td>24-17</td>\n      <td>20-10</td>\n      <td>35-17</td>\n      <td>8-2</td>\n      <td>5-5</td>\n      <td>7-3</td>\n      <td>...</td>\n      <td>16-13</td>\n      <td>9-3</td>\n      <td>26-13</td>\n      <td>2-0</td>\n      <td>13-2</td>\n      <td>8-6</td>\n      <td>12-4</td>\n      <td>7-4</td>\n      <td>9-8</td>\n      <td>4-3</td>\n    </tr>\n  </tbody>\n</table>\n<p>5 rows × 24 columns</p>\n</div>"
     },
     "execution_count": 54,
     "metadata": {},
     "output_type": "execute_result"
    }
   ],
   "source": [
    "import os\n",
    "standings_filename = os.path.join(\"standing.csv\")\n",
    "\n",
    "standings = pd.read_csv(standings_filename, skiprows=1)\n",
    "standings.head()"
   ],
   "metadata": {
    "collapsed": false,
    "pycharm": {
     "name": "#%%\n"
    }
   }
  },
  {
   "cell_type": "code",
   "execution_count": 55,
   "outputs": [],
   "source": [
    "dataset[\"HomeTeamRanksHigher\"] = 0\n",
    "for index, row in dataset.iterrows():\n",
    "    home_team = row[\"Home Team\"]\n",
    "    visitor_team = row[\"Visitor Team\"]\n",
    "    home_rank = standings[standings[\"Team\"] == home_team][\"Rk\"].values[0]\n",
    "    visitor_rank = standings[standings[\"Team\"] == visitor_team][\"Rk\"].values[0]\n",
    "    row[\"HomeTeamRanksHigher\"] = int(home_rank > visitor_rank)\n",
    "    #dataset.at[\"HomeTeamRanksHigher\"] =  int(home_rank < visitor_rank)"
   ],
   "metadata": {
    "collapsed": false,
    "pycharm": {
     "name": "#%%\n"
    }
   }
  },
  {
   "cell_type": "code",
   "execution_count": 56,
   "outputs": [],
   "source": [
    "X_homehigher = dataset[[ \"HomeTeamRanksHigher\", \"HomeLastWin\", \"VisitorLastWin\",]].values"
   ],
   "metadata": {
    "collapsed": false,
    "pycharm": {
     "name": "#%%\n"
    }
   }
  },
  {
   "cell_type": "code",
   "execution_count": 57,
   "outputs": [
    {
     "name": "stdout",
     "output_type": "stream",
     "text": [
      "Accuracy: 59.4%\n"
     ]
    }
   ],
   "source": [
    "clf = DecisionTreeClassifier(random_state=14, criterion=\"entropy\")\n",
    "scores = cross_val_score(clf, X_homehigher, y_true, scoring='accuracy')\n",
    "print(\"Accuracy: {0:.1f}%\".format(np.mean(scores) * 100))"
   ],
   "metadata": {
    "collapsed": false,
    "pycharm": {
     "name": "#%%\n"
    }
   }
  },
  {
   "cell_type": "code",
   "execution_count": 59,
   "outputs": [],
   "source": [
    "last_match_winner = defaultdict(int)\n",
    "dataset[\"HomeTeamWonLast\"] = 0\n",
    "\n",
    "for index, row in dataset.iterrows():\n",
    "    home_team = row[\"Home Team\"]\n",
    "    visitor_team = row[\"Visitor Team\"]\n",
    "    teams = tuple(sorted([home_team, visitor_team]))  # Sort for a consistent ordering\n",
    "    # Set in the row, who won the last encounter\n",
    "    home_team_won_last = 1 if last_match_winner[teams] == row[\"Home Team\"] else 0\n",
    "    dataset.at[index, \"HomeTeamWonLast\"] = home_team_won_last\n",
    "    # Who won this one?\n",
    "    winner = row[\"Home Team\"] if row[\"HomeWin\"] else row[\"Visitor Team\"]\n",
    "    last_match_winner[teams] = winner"
   ],
   "metadata": {
    "collapsed": false,
    "pycharm": {
     "name": "#%%\n"
    }
   }
  },
  {
   "cell_type": "code",
   "execution_count": 60,
   "outputs": [
    {
     "data": {
      "text/plain": "          Date Start (ET)            Visitor Team  VisitorPts  \\\n400 2015-12-19      8:00p    Los Angeles Clippers          97   \n401 2015-12-19      8:00p          Indiana Pacers          84   \n402 2015-12-20      1:00p  Minnesota Timberwolves         100   \n403 2015-12-20      1:00p  Portland Trail Blazers         109   \n404 2015-12-20      3:30p      Philadelphia 76ers          86   \n405 2015-12-20      5:00p         Milwaukee Bucks         101   \n406 2015-12-20      6:00p           Atlanta Hawks         103   \n407 2015-12-20      6:00p        Sacramento Kings         104   \n408 2015-12-20      8:00p    New Orleans Pelicans         130   \n409 2015-12-21      7:00p        Sacramento Kings          99   \n410 2015-12-21      7:30p  Minnesota Timberwolves          99   \n411 2015-12-21      7:30p           Orlando Magic         107   \n412 2015-12-21      8:00p  Portland Trail Blazers          97   \n413 2015-12-21      8:00p           Brooklyn Nets         105   \n414 2015-12-21      8:00p       Charlotte Hornets          95   \n415 2015-12-21      8:30p          Indiana Pacers          92   \n416 2015-12-21      9:00p            Phoenix Suns          89   \n417 2015-12-21     10:30p   Oklahoma City Thunder         100   \n418 2015-12-22      7:00p       Memphis Grizzlies         104   \n419 2015-12-22      7:30p         Detroit Pistons          93   \n420 2015-12-22      7:30p        Dallas Mavericks          99   \n421 2015-12-22      9:00p      Los Angeles Lakers         111   \n422 2015-12-23      7:00p          Boston Celtics         102   \n423 2015-12-23      7:00p         New York Knicks          84   \n424 2015-12-23      7:00p        Sacramento Kings         108   \n425 2015-12-23      7:00p         Houston Rockets         101   \n426 2015-12-23      7:00p       Memphis Grizzlies          91   \n427 2015-12-23      7:30p        Dallas Mavericks         119   \n428 2015-12-23      8:00p         Detroit Pistons         100   \n429 2015-12-23      8:00p      Philadelphia 76ers         100   \n430 2015-12-23      8:00p       San Antonio Spurs         108   \n431 2015-12-23      8:00p  Portland Trail Blazers          89   \n432 2015-12-23      9:00p          Denver Nuggets         104   \n433 2015-12-23     10:30p               Utah Jazz          85   \n434 2015-12-23     10:30p   Oklahoma City Thunder         120   \n435 2015-12-25     12:00p    New Orleans Pelicans          88   \n436 2015-12-25      2:30p           Chicago Bulls         105   \n437 2015-12-25      5:00p     Cleveland Cavaliers          83   \n438 2015-12-25      8:00p       San Antonio Spurs          84   \n439 2015-12-25     10:30p    Los Angeles Clippers          94   \n440 2015-12-26      4:00p      Washington Wizards         111   \n441 2015-12-26      5:00p         Toronto Raptors         111   \n442 2015-12-26      7:00p       Memphis Grizzlies          92   \n443 2015-12-26      7:00p         Houston Rockets         108   \n444 2015-12-26      7:00p              Miami Heat         108   \n445 2015-12-26      7:30p         New York Knicks          98   \n446 2015-12-26      7:30p          Boston Celtics          99   \n447 2015-12-26      8:00p          Indiana Pacers         102   \n448 2015-12-26      8:30p           Chicago Bulls         111   \n449 2015-12-26      8:30p          Denver Nuggets          86   \n\n                  Home Team  HomePts        OT? Score Type Notes  HomeWin  \\\n400         Houston Rockets      107  Box Score        NaN   NaN     True   \n401       Memphis Grizzlies       96  Box Score        NaN   NaN     True   \n402           Brooklyn Nets       85  Box Score        NaN   NaN    False   \n403              Miami Heat      116  Box Score        NaN   NaN     True   \n404     Cleveland Cavaliers      108  Box Score        NaN   NaN     True   \n405            Phoenix Suns       95  Box Score        NaN   NaN    False   \n406           Orlando Magic      100  Box Score        NaN   NaN    False   \n407         Toronto Raptors       94  Box Score        NaN   NaN    False   \n408          Denver Nuggets      125  Box Score        NaN   NaN    False   \n409      Washington Wizards      113  Box Score        NaN   NaN     True   \n410          Boston Celtics      113  Box Score        NaN   NaN     True   \n411         New York Knicks       99  Box Score        NaN   NaN    False   \n412           Atlanta Hawks      106  Box Score        NaN   NaN     True   \n413           Chicago Bulls      102  Box Score        NaN   NaN    False   \n414         Houston Rockets      102  Box Score        NaN   NaN     True   \n415       San Antonio Spurs      106  Box Score        NaN   NaN     True   \n416               Utah Jazz      110  Box Score        NaN   NaN     True   \n417    Los Angeles Clippers       99  Box Score        NaN   NaN    False   \n418      Philadelphia 76ers       90  Box Score        NaN   NaN    False   \n419              Miami Heat       92  Box Score        NaN   NaN    False   \n420         Toronto Raptors      103  Box Score        NaN   NaN     True   \n421          Denver Nuggets      107  Box Score        NaN   NaN    False   \n422       Charlotte Hornets       89  Box Score        NaN   NaN    False   \n423     Cleveland Cavaliers       91  Box Score        NaN   NaN     True   \n424          Indiana Pacers      106  Box Score        NaN   NaN    False   \n425           Orlando Magic      104  Box Score        NaN   NaN     True   \n426      Washington Wizards      100  Box Score        NaN   NaN     True   \n427           Brooklyn Nets      118  Box Score         OT   NaN    False   \n428           Atlanta Hawks      107  Box Score        NaN   NaN     True   \n429         Milwaukee Bucks      113  Box Score        NaN   NaN     True   \n430  Minnesota Timberwolves       83  Box Score        NaN   NaN    False   \n431    New Orleans Pelicans      115  Box Score        NaN   NaN     True   \n432            Phoenix Suns       96  Box Score        NaN   NaN    False   \n433   Golden State Warriors      103  Box Score        NaN   NaN     True   \n434      Los Angeles Lakers       85  Box Score        NaN   NaN    False   \n435              Miami Heat       94  Box Score         OT   NaN     True   \n436   Oklahoma City Thunder       96  Box Score        NaN   NaN    False   \n437   Golden State Warriors       89  Box Score        NaN   NaN     True   \n438         Houston Rockets       88  Box Score        NaN   NaN     True   \n439      Los Angeles Lakers       84  Box Score        NaN   NaN    False   \n440           Brooklyn Nets       96  Box Score        NaN   NaN    False   \n441         Milwaukee Bucks       90  Box Score        NaN   NaN    False   \n442       Charlotte Hornets       98  Box Score        NaN   NaN     True   \n443    New Orleans Pelicans      110  Box Score        NaN   NaN     True   \n444           Orlando Magic      101  Box Score        NaN   NaN    False   \n445           Atlanta Hawks      117  Box Score        NaN   NaN     True   \n446         Detroit Pistons       93  Box Score        NaN   NaN    False   \n447  Minnesota Timberwolves       88  Box Score        NaN   NaN    False   \n448        Dallas Mavericks      118  Box Score        NaN   NaN     True   \n449       San Antonio Spurs      101  Box Score        NaN   NaN     True   \n\n     HomeLastWin  VisitorLastWin  HomeTeamRanksHigher  HomeTeamWonLast  \n400            1               0                    0                1  \n401            0               1                    0                1  \n402            0               1                    0                0  \n403            0               0                    0                0  \n404            1               0                    0                1  \n405            1               0                    0                0  \n406            1               1                    0                0  \n407            1               0                    0                0  \n408            0               0                    0                1  \n409            1               1                    0                0  \n410            0               1                    0                0  \n411            1               0                    0                0  \n412            1               0                    0                0  \n413            0               0                    0                1  \n414            1               0                    0                0  \n415            1               0                    0                0  \n416            1               0                    0                0  \n417            0               1                    0                0  \n418            0               1                    0                0  \n419            1               1                    0                0  \n420            0               1                    0                1  \n421            0               0                    0                1  \n422            0               1                    0                0  \n423            1               0                    0                1  \n424            0               0                    0                0  \n425            1               1                    0                0  \n426            1               1                    0                0  \n427            1               0                    0                0  \n428            1               1                    0                0  \n429            1               0                    0                1  \n430            0               1                    0                0  \n431            1               0                    0                0  \n432            0               0                    0                1  \n433            1               1                    0                1  \n434            1               1                    0                0  \n435            0               1                    0                0  \n436            1               0                    0                0  \n437            1               1                    0                0  \n438            0               1                    0                0  \n439            0               0                    0                0  \n440            0               1                    0                0  \n441            1               1                    0                0  \n442            0               0                    0                1  \n443            0               1                    0                0  \n444            1               1                    0                0  \n445            1               0                    0                1  \n446            0               1                    0                1  \n447            0               0                    0                0  \n448            1               1                    0                0  \n449            0               1                    0                1  ",
      "text/html": "<div>\n<style scoped>\n    .dataframe tbody tr th:only-of-type {\n        vertical-align: middle;\n    }\n\n    .dataframe tbody tr th {\n        vertical-align: top;\n    }\n\n    .dataframe thead th {\n        text-align: right;\n    }\n</style>\n<table border=\"1\" class=\"dataframe\">\n  <thead>\n    <tr style=\"text-align: right;\">\n      <th></th>\n      <th>Date</th>\n      <th>Start (ET)</th>\n      <th>Visitor Team</th>\n      <th>VisitorPts</th>\n      <th>Home Team</th>\n      <th>HomePts</th>\n      <th>OT?</th>\n      <th>Score Type</th>\n      <th>Notes</th>\n      <th>HomeWin</th>\n      <th>HomeLastWin</th>\n      <th>VisitorLastWin</th>\n      <th>HomeTeamRanksHigher</th>\n      <th>HomeTeamWonLast</th>\n    </tr>\n  </thead>\n  <tbody>\n    <tr>\n      <th>400</th>\n      <td>2015-12-19</td>\n      <td>8:00p</td>\n      <td>Los Angeles Clippers</td>\n      <td>97</td>\n      <td>Houston Rockets</td>\n      <td>107</td>\n      <td>Box Score</td>\n      <td>NaN</td>\n      <td>NaN</td>\n      <td>True</td>\n      <td>1</td>\n      <td>0</td>\n      <td>0</td>\n      <td>1</td>\n    </tr>\n    <tr>\n      <th>401</th>\n      <td>2015-12-19</td>\n      <td>8:00p</td>\n      <td>Indiana Pacers</td>\n      <td>84</td>\n      <td>Memphis Grizzlies</td>\n      <td>96</td>\n      <td>Box Score</td>\n      <td>NaN</td>\n      <td>NaN</td>\n      <td>True</td>\n      <td>0</td>\n      <td>1</td>\n      <td>0</td>\n      <td>1</td>\n    </tr>\n    <tr>\n      <th>402</th>\n      <td>2015-12-20</td>\n      <td>1:00p</td>\n      <td>Minnesota Timberwolves</td>\n      <td>100</td>\n      <td>Brooklyn Nets</td>\n      <td>85</td>\n      <td>Box Score</td>\n      <td>NaN</td>\n      <td>NaN</td>\n      <td>False</td>\n      <td>0</td>\n      <td>1</td>\n      <td>0</td>\n      <td>0</td>\n    </tr>\n    <tr>\n      <th>403</th>\n      <td>2015-12-20</td>\n      <td>1:00p</td>\n      <td>Portland Trail Blazers</td>\n      <td>109</td>\n      <td>Miami Heat</td>\n      <td>116</td>\n      <td>Box Score</td>\n      <td>NaN</td>\n      <td>NaN</td>\n      <td>True</td>\n      <td>0</td>\n      <td>0</td>\n      <td>0</td>\n      <td>0</td>\n    </tr>\n    <tr>\n      <th>404</th>\n      <td>2015-12-20</td>\n      <td>3:30p</td>\n      <td>Philadelphia 76ers</td>\n      <td>86</td>\n      <td>Cleveland Cavaliers</td>\n      <td>108</td>\n      <td>Box Score</td>\n      <td>NaN</td>\n      <td>NaN</td>\n      <td>True</td>\n      <td>1</td>\n      <td>0</td>\n      <td>0</td>\n      <td>1</td>\n    </tr>\n    <tr>\n      <th>405</th>\n      <td>2015-12-20</td>\n      <td>5:00p</td>\n      <td>Milwaukee Bucks</td>\n      <td>101</td>\n      <td>Phoenix Suns</td>\n      <td>95</td>\n      <td>Box Score</td>\n      <td>NaN</td>\n      <td>NaN</td>\n      <td>False</td>\n      <td>1</td>\n      <td>0</td>\n      <td>0</td>\n      <td>0</td>\n    </tr>\n    <tr>\n      <th>406</th>\n      <td>2015-12-20</td>\n      <td>6:00p</td>\n      <td>Atlanta Hawks</td>\n      <td>103</td>\n      <td>Orlando Magic</td>\n      <td>100</td>\n      <td>Box Score</td>\n      <td>NaN</td>\n      <td>NaN</td>\n      <td>False</td>\n      <td>1</td>\n      <td>1</td>\n      <td>0</td>\n      <td>0</td>\n    </tr>\n    <tr>\n      <th>407</th>\n      <td>2015-12-20</td>\n      <td>6:00p</td>\n      <td>Sacramento Kings</td>\n      <td>104</td>\n      <td>Toronto Raptors</td>\n      <td>94</td>\n      <td>Box Score</td>\n      <td>NaN</td>\n      <td>NaN</td>\n      <td>False</td>\n      <td>1</td>\n      <td>0</td>\n      <td>0</td>\n      <td>0</td>\n    </tr>\n    <tr>\n      <th>408</th>\n      <td>2015-12-20</td>\n      <td>8:00p</td>\n      <td>New Orleans Pelicans</td>\n      <td>130</td>\n      <td>Denver Nuggets</td>\n      <td>125</td>\n      <td>Box Score</td>\n      <td>NaN</td>\n      <td>NaN</td>\n      <td>False</td>\n      <td>0</td>\n      <td>0</td>\n      <td>0</td>\n      <td>1</td>\n    </tr>\n    <tr>\n      <th>409</th>\n      <td>2015-12-21</td>\n      <td>7:00p</td>\n      <td>Sacramento Kings</td>\n      <td>99</td>\n      <td>Washington Wizards</td>\n      <td>113</td>\n      <td>Box Score</td>\n      <td>NaN</td>\n      <td>NaN</td>\n      <td>True</td>\n      <td>1</td>\n      <td>1</td>\n      <td>0</td>\n      <td>0</td>\n    </tr>\n    <tr>\n      <th>410</th>\n      <td>2015-12-21</td>\n      <td>7:30p</td>\n      <td>Minnesota Timberwolves</td>\n      <td>99</td>\n      <td>Boston Celtics</td>\n      <td>113</td>\n      <td>Box Score</td>\n      <td>NaN</td>\n      <td>NaN</td>\n      <td>True</td>\n      <td>0</td>\n      <td>1</td>\n      <td>0</td>\n      <td>0</td>\n    </tr>\n    <tr>\n      <th>411</th>\n      <td>2015-12-21</td>\n      <td>7:30p</td>\n      <td>Orlando Magic</td>\n      <td>107</td>\n      <td>New York Knicks</td>\n      <td>99</td>\n      <td>Box Score</td>\n      <td>NaN</td>\n      <td>NaN</td>\n      <td>False</td>\n      <td>1</td>\n      <td>0</td>\n      <td>0</td>\n      <td>0</td>\n    </tr>\n    <tr>\n      <th>412</th>\n      <td>2015-12-21</td>\n      <td>8:00p</td>\n      <td>Portland Trail Blazers</td>\n      <td>97</td>\n      <td>Atlanta Hawks</td>\n      <td>106</td>\n      <td>Box Score</td>\n      <td>NaN</td>\n      <td>NaN</td>\n      <td>True</td>\n      <td>1</td>\n      <td>0</td>\n      <td>0</td>\n      <td>0</td>\n    </tr>\n    <tr>\n      <th>413</th>\n      <td>2015-12-21</td>\n      <td>8:00p</td>\n      <td>Brooklyn Nets</td>\n      <td>105</td>\n      <td>Chicago Bulls</td>\n      <td>102</td>\n      <td>Box Score</td>\n      <td>NaN</td>\n      <td>NaN</td>\n      <td>False</td>\n      <td>0</td>\n      <td>0</td>\n      <td>0</td>\n      <td>1</td>\n    </tr>\n    <tr>\n      <th>414</th>\n      <td>2015-12-21</td>\n      <td>8:00p</td>\n      <td>Charlotte Hornets</td>\n      <td>95</td>\n      <td>Houston Rockets</td>\n      <td>102</td>\n      <td>Box Score</td>\n      <td>NaN</td>\n      <td>NaN</td>\n      <td>True</td>\n      <td>1</td>\n      <td>0</td>\n      <td>0</td>\n      <td>0</td>\n    </tr>\n    <tr>\n      <th>415</th>\n      <td>2015-12-21</td>\n      <td>8:30p</td>\n      <td>Indiana Pacers</td>\n      <td>92</td>\n      <td>San Antonio Spurs</td>\n      <td>106</td>\n      <td>Box Score</td>\n      <td>NaN</td>\n      <td>NaN</td>\n      <td>True</td>\n      <td>1</td>\n      <td>0</td>\n      <td>0</td>\n      <td>0</td>\n    </tr>\n    <tr>\n      <th>416</th>\n      <td>2015-12-21</td>\n      <td>9:00p</td>\n      <td>Phoenix Suns</td>\n      <td>89</td>\n      <td>Utah Jazz</td>\n      <td>110</td>\n      <td>Box Score</td>\n      <td>NaN</td>\n      <td>NaN</td>\n      <td>True</td>\n      <td>1</td>\n      <td>0</td>\n      <td>0</td>\n      <td>0</td>\n    </tr>\n    <tr>\n      <th>417</th>\n      <td>2015-12-21</td>\n      <td>10:30p</td>\n      <td>Oklahoma City Thunder</td>\n      <td>100</td>\n      <td>Los Angeles Clippers</td>\n      <td>99</td>\n      <td>Box Score</td>\n      <td>NaN</td>\n      <td>NaN</td>\n      <td>False</td>\n      <td>0</td>\n      <td>1</td>\n      <td>0</td>\n      <td>0</td>\n    </tr>\n    <tr>\n      <th>418</th>\n      <td>2015-12-22</td>\n      <td>7:00p</td>\n      <td>Memphis Grizzlies</td>\n      <td>104</td>\n      <td>Philadelphia 76ers</td>\n      <td>90</td>\n      <td>Box Score</td>\n      <td>NaN</td>\n      <td>NaN</td>\n      <td>False</td>\n      <td>0</td>\n      <td>1</td>\n      <td>0</td>\n      <td>0</td>\n    </tr>\n    <tr>\n      <th>419</th>\n      <td>2015-12-22</td>\n      <td>7:30p</td>\n      <td>Detroit Pistons</td>\n      <td>93</td>\n      <td>Miami Heat</td>\n      <td>92</td>\n      <td>Box Score</td>\n      <td>NaN</td>\n      <td>NaN</td>\n      <td>False</td>\n      <td>1</td>\n      <td>1</td>\n      <td>0</td>\n      <td>0</td>\n    </tr>\n    <tr>\n      <th>420</th>\n      <td>2015-12-22</td>\n      <td>7:30p</td>\n      <td>Dallas Mavericks</td>\n      <td>99</td>\n      <td>Toronto Raptors</td>\n      <td>103</td>\n      <td>Box Score</td>\n      <td>NaN</td>\n      <td>NaN</td>\n      <td>True</td>\n      <td>0</td>\n      <td>1</td>\n      <td>0</td>\n      <td>1</td>\n    </tr>\n    <tr>\n      <th>421</th>\n      <td>2015-12-22</td>\n      <td>9:00p</td>\n      <td>Los Angeles Lakers</td>\n      <td>111</td>\n      <td>Denver Nuggets</td>\n      <td>107</td>\n      <td>Box Score</td>\n      <td>NaN</td>\n      <td>NaN</td>\n      <td>False</td>\n      <td>0</td>\n      <td>0</td>\n      <td>0</td>\n      <td>1</td>\n    </tr>\n    <tr>\n      <th>422</th>\n      <td>2015-12-23</td>\n      <td>7:00p</td>\n      <td>Boston Celtics</td>\n      <td>102</td>\n      <td>Charlotte Hornets</td>\n      <td>89</td>\n      <td>Box Score</td>\n      <td>NaN</td>\n      <td>NaN</td>\n      <td>False</td>\n      <td>0</td>\n      <td>1</td>\n      <td>0</td>\n      <td>0</td>\n    </tr>\n    <tr>\n      <th>423</th>\n      <td>2015-12-23</td>\n      <td>7:00p</td>\n      <td>New York Knicks</td>\n      <td>84</td>\n      <td>Cleveland Cavaliers</td>\n      <td>91</td>\n      <td>Box Score</td>\n      <td>NaN</td>\n      <td>NaN</td>\n      <td>True</td>\n      <td>1</td>\n      <td>0</td>\n      <td>0</td>\n      <td>1</td>\n    </tr>\n    <tr>\n      <th>424</th>\n      <td>2015-12-23</td>\n      <td>7:00p</td>\n      <td>Sacramento Kings</td>\n      <td>108</td>\n      <td>Indiana Pacers</td>\n      <td>106</td>\n      <td>Box Score</td>\n      <td>NaN</td>\n      <td>NaN</td>\n      <td>False</td>\n      <td>0</td>\n      <td>0</td>\n      <td>0</td>\n      <td>0</td>\n    </tr>\n    <tr>\n      <th>425</th>\n      <td>2015-12-23</td>\n      <td>7:00p</td>\n      <td>Houston Rockets</td>\n      <td>101</td>\n      <td>Orlando Magic</td>\n      <td>104</td>\n      <td>Box Score</td>\n      <td>NaN</td>\n      <td>NaN</td>\n      <td>True</td>\n      <td>1</td>\n      <td>1</td>\n      <td>0</td>\n      <td>0</td>\n    </tr>\n    <tr>\n      <th>426</th>\n      <td>2015-12-23</td>\n      <td>7:00p</td>\n      <td>Memphis Grizzlies</td>\n      <td>91</td>\n      <td>Washington Wizards</td>\n      <td>100</td>\n      <td>Box Score</td>\n      <td>NaN</td>\n      <td>NaN</td>\n      <td>True</td>\n      <td>1</td>\n      <td>1</td>\n      <td>0</td>\n      <td>0</td>\n    </tr>\n    <tr>\n      <th>427</th>\n      <td>2015-12-23</td>\n      <td>7:30p</td>\n      <td>Dallas Mavericks</td>\n      <td>119</td>\n      <td>Brooklyn Nets</td>\n      <td>118</td>\n      <td>Box Score</td>\n      <td>OT</td>\n      <td>NaN</td>\n      <td>False</td>\n      <td>1</td>\n      <td>0</td>\n      <td>0</td>\n      <td>0</td>\n    </tr>\n    <tr>\n      <th>428</th>\n      <td>2015-12-23</td>\n      <td>8:00p</td>\n      <td>Detroit Pistons</td>\n      <td>100</td>\n      <td>Atlanta Hawks</td>\n      <td>107</td>\n      <td>Box Score</td>\n      <td>NaN</td>\n      <td>NaN</td>\n      <td>True</td>\n      <td>1</td>\n      <td>1</td>\n      <td>0</td>\n      <td>0</td>\n    </tr>\n    <tr>\n      <th>429</th>\n      <td>2015-12-23</td>\n      <td>8:00p</td>\n      <td>Philadelphia 76ers</td>\n      <td>100</td>\n      <td>Milwaukee Bucks</td>\n      <td>113</td>\n      <td>Box Score</td>\n      <td>NaN</td>\n      <td>NaN</td>\n      <td>True</td>\n      <td>1</td>\n      <td>0</td>\n      <td>0</td>\n      <td>1</td>\n    </tr>\n    <tr>\n      <th>430</th>\n      <td>2015-12-23</td>\n      <td>8:00p</td>\n      <td>San Antonio Spurs</td>\n      <td>108</td>\n      <td>Minnesota Timberwolves</td>\n      <td>83</td>\n      <td>Box Score</td>\n      <td>NaN</td>\n      <td>NaN</td>\n      <td>False</td>\n      <td>0</td>\n      <td>1</td>\n      <td>0</td>\n      <td>0</td>\n    </tr>\n    <tr>\n      <th>431</th>\n      <td>2015-12-23</td>\n      <td>8:00p</td>\n      <td>Portland Trail Blazers</td>\n      <td>89</td>\n      <td>New Orleans Pelicans</td>\n      <td>115</td>\n      <td>Box Score</td>\n      <td>NaN</td>\n      <td>NaN</td>\n      <td>True</td>\n      <td>1</td>\n      <td>0</td>\n      <td>0</td>\n      <td>0</td>\n    </tr>\n    <tr>\n      <th>432</th>\n      <td>2015-12-23</td>\n      <td>9:00p</td>\n      <td>Denver Nuggets</td>\n      <td>104</td>\n      <td>Phoenix Suns</td>\n      <td>96</td>\n      <td>Box Score</td>\n      <td>NaN</td>\n      <td>NaN</td>\n      <td>False</td>\n      <td>0</td>\n      <td>0</td>\n      <td>0</td>\n      <td>1</td>\n    </tr>\n    <tr>\n      <th>433</th>\n      <td>2015-12-23</td>\n      <td>10:30p</td>\n      <td>Utah Jazz</td>\n      <td>85</td>\n      <td>Golden State Warriors</td>\n      <td>103</td>\n      <td>Box Score</td>\n      <td>NaN</td>\n      <td>NaN</td>\n      <td>True</td>\n      <td>1</td>\n      <td>1</td>\n      <td>0</td>\n      <td>1</td>\n    </tr>\n    <tr>\n      <th>434</th>\n      <td>2015-12-23</td>\n      <td>10:30p</td>\n      <td>Oklahoma City Thunder</td>\n      <td>120</td>\n      <td>Los Angeles Lakers</td>\n      <td>85</td>\n      <td>Box Score</td>\n      <td>NaN</td>\n      <td>NaN</td>\n      <td>False</td>\n      <td>1</td>\n      <td>1</td>\n      <td>0</td>\n      <td>0</td>\n    </tr>\n    <tr>\n      <th>435</th>\n      <td>2015-12-25</td>\n      <td>12:00p</td>\n      <td>New Orleans Pelicans</td>\n      <td>88</td>\n      <td>Miami Heat</td>\n      <td>94</td>\n      <td>Box Score</td>\n      <td>OT</td>\n      <td>NaN</td>\n      <td>True</td>\n      <td>0</td>\n      <td>1</td>\n      <td>0</td>\n      <td>0</td>\n    </tr>\n    <tr>\n      <th>436</th>\n      <td>2015-12-25</td>\n      <td>2:30p</td>\n      <td>Chicago Bulls</td>\n      <td>105</td>\n      <td>Oklahoma City Thunder</td>\n      <td>96</td>\n      <td>Box Score</td>\n      <td>NaN</td>\n      <td>NaN</td>\n      <td>False</td>\n      <td>1</td>\n      <td>0</td>\n      <td>0</td>\n      <td>0</td>\n    </tr>\n    <tr>\n      <th>437</th>\n      <td>2015-12-25</td>\n      <td>5:00p</td>\n      <td>Cleveland Cavaliers</td>\n      <td>83</td>\n      <td>Golden State Warriors</td>\n      <td>89</td>\n      <td>Box Score</td>\n      <td>NaN</td>\n      <td>NaN</td>\n      <td>True</td>\n      <td>1</td>\n      <td>1</td>\n      <td>0</td>\n      <td>0</td>\n    </tr>\n    <tr>\n      <th>438</th>\n      <td>2015-12-25</td>\n      <td>8:00p</td>\n      <td>San Antonio Spurs</td>\n      <td>84</td>\n      <td>Houston Rockets</td>\n      <td>88</td>\n      <td>Box Score</td>\n      <td>NaN</td>\n      <td>NaN</td>\n      <td>True</td>\n      <td>0</td>\n      <td>1</td>\n      <td>0</td>\n      <td>0</td>\n    </tr>\n    <tr>\n      <th>439</th>\n      <td>2015-12-25</td>\n      <td>10:30p</td>\n      <td>Los Angeles Clippers</td>\n      <td>94</td>\n      <td>Los Angeles Lakers</td>\n      <td>84</td>\n      <td>Box Score</td>\n      <td>NaN</td>\n      <td>NaN</td>\n      <td>False</td>\n      <td>0</td>\n      <td>0</td>\n      <td>0</td>\n      <td>0</td>\n    </tr>\n    <tr>\n      <th>440</th>\n      <td>2015-12-26</td>\n      <td>4:00p</td>\n      <td>Washington Wizards</td>\n      <td>111</td>\n      <td>Brooklyn Nets</td>\n      <td>96</td>\n      <td>Box Score</td>\n      <td>NaN</td>\n      <td>NaN</td>\n      <td>False</td>\n      <td>0</td>\n      <td>1</td>\n      <td>0</td>\n      <td>0</td>\n    </tr>\n    <tr>\n      <th>441</th>\n      <td>2015-12-26</td>\n      <td>5:00p</td>\n      <td>Toronto Raptors</td>\n      <td>111</td>\n      <td>Milwaukee Bucks</td>\n      <td>90</td>\n      <td>Box Score</td>\n      <td>NaN</td>\n      <td>NaN</td>\n      <td>False</td>\n      <td>1</td>\n      <td>1</td>\n      <td>0</td>\n      <td>0</td>\n    </tr>\n    <tr>\n      <th>442</th>\n      <td>2015-12-26</td>\n      <td>7:00p</td>\n      <td>Memphis Grizzlies</td>\n      <td>92</td>\n      <td>Charlotte Hornets</td>\n      <td>98</td>\n      <td>Box Score</td>\n      <td>NaN</td>\n      <td>NaN</td>\n      <td>True</td>\n      <td>0</td>\n      <td>0</td>\n      <td>0</td>\n      <td>1</td>\n    </tr>\n    <tr>\n      <th>443</th>\n      <td>2015-12-26</td>\n      <td>7:00p</td>\n      <td>Houston Rockets</td>\n      <td>108</td>\n      <td>New Orleans Pelicans</td>\n      <td>110</td>\n      <td>Box Score</td>\n      <td>NaN</td>\n      <td>NaN</td>\n      <td>True</td>\n      <td>0</td>\n      <td>1</td>\n      <td>0</td>\n      <td>0</td>\n    </tr>\n    <tr>\n      <th>444</th>\n      <td>2015-12-26</td>\n      <td>7:00p</td>\n      <td>Miami Heat</td>\n      <td>108</td>\n      <td>Orlando Magic</td>\n      <td>101</td>\n      <td>Box Score</td>\n      <td>NaN</td>\n      <td>NaN</td>\n      <td>False</td>\n      <td>1</td>\n      <td>1</td>\n      <td>0</td>\n      <td>0</td>\n    </tr>\n    <tr>\n      <th>445</th>\n      <td>2015-12-26</td>\n      <td>7:30p</td>\n      <td>New York Knicks</td>\n      <td>98</td>\n      <td>Atlanta Hawks</td>\n      <td>117</td>\n      <td>Box Score</td>\n      <td>NaN</td>\n      <td>NaN</td>\n      <td>True</td>\n      <td>1</td>\n      <td>0</td>\n      <td>0</td>\n      <td>1</td>\n    </tr>\n    <tr>\n      <th>446</th>\n      <td>2015-12-26</td>\n      <td>7:30p</td>\n      <td>Boston Celtics</td>\n      <td>99</td>\n      <td>Detroit Pistons</td>\n      <td>93</td>\n      <td>Box Score</td>\n      <td>NaN</td>\n      <td>NaN</td>\n      <td>False</td>\n      <td>0</td>\n      <td>1</td>\n      <td>0</td>\n      <td>1</td>\n    </tr>\n    <tr>\n      <th>447</th>\n      <td>2015-12-26</td>\n      <td>8:00p</td>\n      <td>Indiana Pacers</td>\n      <td>102</td>\n      <td>Minnesota Timberwolves</td>\n      <td>88</td>\n      <td>Box Score</td>\n      <td>NaN</td>\n      <td>NaN</td>\n      <td>False</td>\n      <td>0</td>\n      <td>0</td>\n      <td>0</td>\n      <td>0</td>\n    </tr>\n    <tr>\n      <th>448</th>\n      <td>2015-12-26</td>\n      <td>8:30p</td>\n      <td>Chicago Bulls</td>\n      <td>111</td>\n      <td>Dallas Mavericks</td>\n      <td>118</td>\n      <td>Box Score</td>\n      <td>NaN</td>\n      <td>NaN</td>\n      <td>True</td>\n      <td>1</td>\n      <td>1</td>\n      <td>0</td>\n      <td>0</td>\n    </tr>\n    <tr>\n      <th>449</th>\n      <td>2015-12-26</td>\n      <td>8:30p</td>\n      <td>Denver Nuggets</td>\n      <td>86</td>\n      <td>San Antonio Spurs</td>\n      <td>101</td>\n      <td>Box Score</td>\n      <td>NaN</td>\n      <td>NaN</td>\n      <td>True</td>\n      <td>0</td>\n      <td>1</td>\n      <td>0</td>\n      <td>1</td>\n    </tr>\n  </tbody>\n</table>\n</div>"
     },
     "execution_count": 60,
     "metadata": {},
     "output_type": "execute_result"
    }
   ],
   "source": [
    "dataset.iloc[400:450]"
   ],
   "metadata": {
    "collapsed": false,
    "pycharm": {
     "name": "#%%\n"
    }
   }
  },
  {
   "cell_type": "code",
   "execution_count": 61,
   "outputs": [
    {
     "name": "stdout",
     "output_type": "stream",
     "text": [
      "Accuracy: 59.3%\n"
     ]
    }
   ],
   "source": [
    "X_lastwinner = dataset[[ \"HomeTeamWonLast\", \"HomeTeamRanksHigher\", \"HomeLastWin\", \"VisitorLastWin\",]].values\n",
    "clf = DecisionTreeClassifier(random_state=14, criterion=\"entropy\")\n",
    "scores = cross_val_score(clf, X_lastwinner, y_true, scoring='accuracy')\n",
    "print(\"Accuracy: {0:.1f}%\".format(np.mean(scores) * 100))"
   ],
   "metadata": {
    "collapsed": false,
    "pycharm": {
     "name": "#%%\n"
    }
   }
  },
  {
   "cell_type": "code",
   "execution_count": 63,
   "outputs": [
    {
     "name": "stdout",
     "output_type": "stream",
     "text": [
      "Accuracy: 63.7%\n"
     ]
    }
   ],
   "source": [
    "from sklearn.preprocessing import LabelEncoder\n",
    "encoding = LabelEncoder()\n",
    "encoding.fit(dataset[\"Home Team\"].values)\n",
    "home_teams = encoding.transform(dataset[\"Home Team\"].values)\n",
    "visitor_teams = encoding.transform(dataset[\"Visitor Team\"].values)\n",
    "X_teams = np.vstack([home_teams, visitor_teams]).T\n",
    "\n",
    "from sklearn.preprocessing import OneHotEncoder\n",
    "onehot = OneHotEncoder()\n",
    "X_teams = onehot.fit_transform(X_teams).todense()\n",
    "\n",
    "clf = DecisionTreeClassifier(random_state=14)\n",
    "scores = cross_val_score(clf, X_teams, y_true, scoring='accuracy')\n",
    "print(\"Accuracy: {0:.1f}%\".format(np.mean(scores) * 100))"
   ],
   "metadata": {
    "collapsed": false,
    "pycharm": {
     "name": "#%%\n"
    }
   }
  },
  {
   "cell_type": "code",
   "execution_count": 64,
   "outputs": [
    {
     "name": "stdout",
     "output_type": "stream",
     "text": [
      "Accuracy: 64.7%\n"
     ]
    }
   ],
   "source": [
    "from sklearn.ensemble import RandomForestClassifier\n",
    "clf = RandomForestClassifier(random_state=14)\n",
    "scores = cross_val_score(clf, X_teams, y_true, scoring='accuracy')\n",
    "print(\"Accuracy: {0:.1f}%\".format(np.mean(scores) * 100))"
   ],
   "metadata": {
    "collapsed": false,
    "pycharm": {
     "name": "#%%\n"
    }
   }
  },
  {
   "cell_type": "code",
   "execution_count": 65,
   "outputs": [
    {
     "name": "stdout",
     "output_type": "stream",
     "text": [
      "Accuracy: 66.2%\n"
     ]
    }
   ],
   "source": [
    "X_all = np.hstack([X_lastwinner, X_teams])\n",
    "clf = RandomForestClassifier(random_state=14)\n",
    "scores = cross_val_score(clf, X_all, y_true, scoring='accuracy')\n",
    "print(\"Accuracy: {0:.1f}%\".format(np.mean(scores) * 100))"
   ],
   "metadata": {
    "collapsed": false,
    "pycharm": {
     "name": "#%%\n"
    }
   }
  },
  {
   "cell_type": "code",
   "execution_count": 66,
   "outputs": [
    {
     "name": "stdout",
     "output_type": "stream",
     "text": [
      "Accuracy: 66.2%\n"
     ]
    }
   ],
   "source": [
    "X_all = np.hstack([X_lastwinner, X_teams])\n",
    "clf = RandomForestClassifier(random_state=14, n_estimators=250)\n",
    "scores = cross_val_score(clf, X_all, y_true, scoring='accuracy')\n",
    "print(\"Accuracy: {0:.1f}%\".format(np.mean(scores) * 100))"
   ],
   "metadata": {
    "collapsed": false,
    "pycharm": {
     "name": "#%%\n"
    }
   }
  },
  {
   "cell_type": "code",
   "execution_count": 69,
   "outputs": [
    {
     "name": "stdout",
     "output_type": "stream",
     "text": [
      "Accuracy: 68.9%\n"
     ]
    }
   ],
   "source": [
    "from sklearn.model_selection import GridSearchCV\n",
    "parameter_space = {\n",
    "    \"max_features\": [2, 10, 'auto'],\n",
    "    \"n_estimators\": [100, 200],\n",
    "    \"criterion\": [\"gini\", \"entropy\"],\n",
    "    \"min_samples_leaf\": [2, 4, 6],\n",
    "}\n",
    "clf = RandomForestClassifier(random_state=14)\n",
    "grid = GridSearchCV(clf, parameter_space)\n",
    "grid.fit(X_all, y_true)\n",
    "print(\"Accuracy: {0:.1f}%\".format(grid.best_score_ * 100))"
   ],
   "metadata": {
    "collapsed": false,
    "pycharm": {
     "name": "#%%\n"
    }
   }
  },
  {
   "cell_type": "code",
   "execution_count": 70,
   "outputs": [
    {
     "name": "stdout",
     "output_type": "stream",
     "text": [
      "RandomForestClassifier(min_samples_leaf=2, random_state=14)\n"
     ]
    }
   ],
   "source": [
    "print(grid.best_estimator_)"
   ],
   "metadata": {
    "collapsed": false,
    "pycharm": {
     "name": "#%%\n"
    }
   }
  }
 ],
 "metadata": {
  "kernelspec": {
   "name": "pycharm-ffa42ba9",
   "language": "python",
   "display_name": "PyCharm (python-path)"
  },
  "language_info": {
   "codemirror_mode": {
    "name": "ipython",
    "version": 2
   },
   "file_extension": ".py",
   "mimetype": "text/x-python",
   "name": "python",
   "nbconvert_exporter": "python",
   "pygments_lexer": "ipython2",
   "version": "2.7.6"
  }
 },
 "nbformat": 4,
 "nbformat_minor": 0
}